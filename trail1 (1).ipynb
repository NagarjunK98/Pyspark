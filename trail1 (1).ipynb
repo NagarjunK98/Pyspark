{
 "cells": [
  {
   "cell_type": "code",
   "execution_count": 146,
   "metadata": {},
   "outputs": [],
   "source": [
    "from pyspark.sql import SparkSession\n",
    "from pyspark.sql.functions import *\n",
    "from pyspark.ml.feature import Tokenizer,StopWordsRemover\n",
    "from pyspark.ml.feature import CountVectorizer\n",
    "from pyspark.ml.feature import IDF\n",
    "from pyspark.ml.classification import LogisticRegression\n",
    "from pyspark.ml.evaluation import BinaryClassificationEvaluator\n",
    "from pyspark.ml.tuning import CrossValidator,ParamGridBuilder\n",
    "import numpy as np\n",
    "from pyspark.ml.evaluation import MulticlassClassificationEvaluator\n",
    "from pyspark.ml.classification import NaiveBayes\n",
    "from pyspark.sql import SQLContext\n",
    "import pyspark as ps\n",
    "from pyspark.ml.classification import LinearSVC\n",
    "import warnings\n",
    "from nltk.stem.snowball import SnowballStemmer\n",
    "import pandas\n",
    "import matplotlib.pyplot as plt\n",
    "from pyspark.ml.classification import RandomForestClassifier\n",
    "from pyspark.ml.classification import GBTClassifier\n",
    "import pandas as pd"
   ]
  },
  {
   "cell_type": "code",
   "execution_count": 2,
   "metadata": {},
   "outputs": [
    {
     "name": "stderr",
     "output_type": "stream",
     "text": [
      "c:\\python36\\lib\\site-packages\\ipykernel_launcher.py:6: UserWarning: SparkContext already exists in this scope\n",
      "  \n"
     ]
    }
   ],
   "source": [
    "try:\n",
    "    sc = ps.SparkContext('local[*]')\n",
    "    sqlContext = SQLContext(sc)\n",
    "    print(\"Just created a SparkContext\")\n",
    "except ValueError:\n",
    "    warnings.warn(\"SparkContext already exists in this scope\")"
   ]
  },
  {
   "cell_type": "code",
   "execution_count": 3,
   "metadata": {},
   "outputs": [],
   "source": [
    "spark=SparkSession.builder.getOrCreate()"
   ]
  },
  {
   "cell_type": "code",
   "execution_count": 4,
   "metadata": {},
   "outputs": [],
   "source": [
    "df=spark.read.csv(\"twitter.csv\",sep=\",\",inferSchema=True,header=False)"
   ]
  },
  {
   "cell_type": "code",
   "execution_count": 5,
   "metadata": {},
   "outputs": [
    {
     "name": "stdout",
     "output_type": "stream",
     "text": [
      "root\n",
      " |-- _c0: integer (nullable = true)\n",
      " |-- _c1: integer (nullable = true)\n",
      " |-- _c2: string (nullable = true)\n",
      "\n"
     ]
    }
   ],
   "source": [
    "df.printSchema()"
   ]
  },
  {
   "cell_type": "code",
   "execution_count": 6,
   "metadata": {},
   "outputs": [
    {
     "name": "stdout",
     "output_type": "stream",
     "text": [
      "+---+---+-------------------------------------------------------------------------------------------------------------------------------------------+\n",
      "|_c0|_c1|_c2                                                                                                                                        |\n",
      "+---+---+-------------------------------------------------------------------------------------------------------------------------------------------+\n",
      "|1  |1  | @user when a father is disfunctional and is so selfish he drags his kids into his disfunction.   #run                                     |\n",
      "|2  |0  |@user @user thanks for #lyft credit i can't use cause they don't offer wheelchair vans in pdx.    #disapointed #getthanked                 |\n",
      "|3  |1  |@user that was fucking weird                                                                                                               |\n",
      "|4  |1  |@userthat was so shitty                                                                                                                    |\n",
      "|5  |0  | factsguide: society now    #motivation                                                                                                    |\n",
      "|6  |0  |[2/2] huge fan fare and big talking before they leave. chaos and pay disputes when they get there. #allshowandnogo                         |\n",
      "|7  |0  | @user camping tomorrow @user @user @user @user @user @user @user dannyâ¦                                                                 |\n",
      "|8  |0  |the next school year is the year for exams. can't think about that ð­ #school #exams   #hate #imagine #actorslife #revolutionschool #girl|\n",
      "|9  |0  |we won!!! love the land!!! #allin #cavs #champions #cleveland #clevelandcavaliers  â¦                                                     |\n",
      "|10 |1  | you are so boring                                                                                                                         |\n",
      "|11 |0  |  #ireland consumer price index (mom) climbed from previous 0.2% to 0.5% in may   #blog #silver #gold #forex                               |\n",
      "|12 |0  |we are so selfish. #orlando #standwithorlando #pulseshooting #orlandoshooting #biggerproblems #selfish #heabreaking   #values #love        |\n",
      "|13 |0  |i get to see my daddy today!!   #80days #gettingfed                                                                                        |\n",
      "|14 |1  |i won't spare you!                                                                                                                         |\n",
      "|15 |1  |it was not good for me                                                                                                                     |\n",
      "|16 |1  |ouch...junior is angry#got7 #junior #yugyoem   #omg                                                                                        |\n",
      "|17 |0  |i am thankful for having a paner. #thankful #positive                                                                                      |\n",
      "|18 |1  |retweet if you agree!                                                                                                                      |\n",
      "|19 |0  |its #friday! ð smiles all around via ig user: @user #cookies make people                                                                |\n",
      "|20 |0  |as we all know, essential oils are not made of chemicals.                                                                                  |\n",
      "+---+---+-------------------------------------------------------------------------------------------------------------------------------------------+\n",
      "only showing top 20 rows\n",
      "\n"
     ]
    }
   ],
   "source": [
    "df.show(truncate=False)\n",
    "#df.show()"
   ]
  },
  {
   "cell_type": "code",
   "execution_count": 7,
   "metadata": {},
   "outputs": [
    {
     "data": {
      "text/plain": [
       "31962"
      ]
     },
     "execution_count": 7,
     "metadata": {},
     "output_type": "execute_result"
    }
   ],
   "source": [
    "df.count()"
   ]
  },
  {
   "cell_type": "code",
   "execution_count": 8,
   "metadata": {},
   "outputs": [],
   "source": [
    "df1=df.withColumnRenamed('_c0',\"id\").withColumnRenamed('_c1','label').withColumnRenamed('_c2','tweet')"
   ]
  },
  {
   "cell_type": "code",
   "execution_count": 9,
   "metadata": {},
   "outputs": [
    {
     "name": "stdout",
     "output_type": "stream",
     "text": [
      "root\n",
      " |-- id: integer (nullable = true)\n",
      " |-- label: integer (nullable = true)\n",
      " |-- tweet: string (nullable = true)\n",
      "\n"
     ]
    }
   ],
   "source": [
    "df1.printSchema()"
   ]
  },
  {
   "cell_type": "code",
   "execution_count": 10,
   "metadata": {},
   "outputs": [
    {
     "name": "stdout",
     "output_type": "stream",
     "text": [
      "+---+-----+-------------------------------------------------------------------------------------------------------------------------------------------+\n",
      "|id |label|tweet                                                                                                                                      |\n",
      "+---+-----+-------------------------------------------------------------------------------------------------------------------------------------------+\n",
      "|1  |1    | @user when a father is disfunctional and is so selfish he drags his kids into his disfunction.   #run                                     |\n",
      "|2  |0    |@user @user thanks for #lyft credit i can't use cause they don't offer wheelchair vans in pdx.    #disapointed #getthanked                 |\n",
      "|3  |1    |@user that was fucking weird                                                                                                               |\n",
      "|4  |1    |@userthat was so shitty                                                                                                                    |\n",
      "|5  |0    | factsguide: society now    #motivation                                                                                                    |\n",
      "|6  |0    |[2/2] huge fan fare and big talking before they leave. chaos and pay disputes when they get there. #allshowandnogo                         |\n",
      "|7  |0    | @user camping tomorrow @user @user @user @user @user @user @user dannyâ¦                                                                 |\n",
      "|8  |0    |the next school year is the year for exams. can't think about that ð­ #school #exams   #hate #imagine #actorslife #revolutionschool #girl|\n",
      "|9  |0    |we won!!! love the land!!! #allin #cavs #champions #cleveland #clevelandcavaliers  â¦                                                     |\n",
      "|10 |1    | you are so boring                                                                                                                         |\n",
      "|11 |0    |  #ireland consumer price index (mom) climbed from previous 0.2% to 0.5% in may   #blog #silver #gold #forex                               |\n",
      "|12 |0    |we are so selfish. #orlando #standwithorlando #pulseshooting #orlandoshooting #biggerproblems #selfish #heabreaking   #values #love        |\n",
      "|13 |0    |i get to see my daddy today!!   #80days #gettingfed                                                                                        |\n",
      "|14 |1    |i won't spare you!                                                                                                                         |\n",
      "|15 |1    |it was not good for me                                                                                                                     |\n",
      "|16 |1    |ouch...junior is angry#got7 #junior #yugyoem   #omg                                                                                        |\n",
      "|17 |0    |i am thankful for having a paner. #thankful #positive                                                                                      |\n",
      "|18 |1    |retweet if you agree!                                                                                                                      |\n",
      "|19 |0    |its #friday! ð smiles all around via ig user: @user #cookies make people                                                                |\n",
      "|20 |0    |as we all know, essential oils are not made of chemicals.                                                                                  |\n",
      "+---+-----+-------------------------------------------------------------------------------------------------------------------------------------------+\n",
      "only showing top 20 rows\n",
      "\n"
     ]
    }
   ],
   "source": [
    "df1.show(truncate=False)"
   ]
  },
  {
   "cell_type": "code",
   "execution_count": 11,
   "metadata": {},
   "outputs": [],
   "source": [
    "df2 = df1.withColumn('tweet', regexp_replace('tweet', '[^a-z0-9A-Z`~!@#$%&<>?., ]', ''))"
   ]
  },
  {
   "cell_type": "code",
   "execution_count": 12,
   "metadata": {},
   "outputs": [
    {
     "name": "stdout",
     "output_type": "stream",
     "text": [
      "+---+-----+--------------------------------------------------------------------------------------------------------------------------------------+\n",
      "|id |label|tweet                                                                                                                                 |\n",
      "+---+-----+--------------------------------------------------------------------------------------------------------------------------------------+\n",
      "|1  |1    | @user when a father is disfunctional and is so selfish he drags his kids into his disfunction.   #run                                |\n",
      "|2  |0    |@user @user thanks for #lyft credit i cant use cause they dont offer wheelchair vans in pdx.    #disapointed #getthanked              |\n",
      "|3  |1    |@user that was fucking weird                                                                                                          |\n",
      "|4  |1    |@userthat was so shitty                                                                                                               |\n",
      "|5  |0    | factsguide society now    #motivation                                                                                                |\n",
      "|6  |0    |22 huge fan fare and big talking before they leave. chaos and pay disputes when they get there. #allshowandnogo                       |\n",
      "|7  |0    | @user camping tomorrow @user @user @user @user @user @user @user danny                                                               |\n",
      "|8  |0    |the next school year is the year for exams. cant think about that  #school #exams   #hate #imagine #actorslife #revolutionschool #girl|\n",
      "|9  |0    |we won!!! love the land!!! #allin #cavs #champions #cleveland #clevelandcavaliers                                                     |\n",
      "|10 |1    | you are so boring                                                                                                                    |\n",
      "|11 |0    |  #ireland consumer price index mom climbed from previous 0.2% to 0.5% in may   #blog #silver #gold #forex                            |\n",
      "|12 |0    |we are so selfish. #orlando #standwithorlando #pulseshooting #orlandoshooting #biggerproblems #selfish #heabreaking   #values #love   |\n",
      "|13 |0    |i get to see my daddy today!!   #80days #gettingfed                                                                                   |\n",
      "|14 |1    |i wont spare you!                                                                                                                     |\n",
      "|15 |1    |it was not good for me                                                                                                                |\n",
      "|16 |1    |ouch...junior is angry#got7 #junior #yugyoem   #omg                                                                                   |\n",
      "|17 |0    |i am thankful for having a paner. #thankful #positive                                                                                 |\n",
      "|18 |1    |retweet if you agree!                                                                                                                 |\n",
      "|19 |0    |its #friday!  smiles all around via ig user @user #cookies make people                                                                |\n",
      "|20 |0    |as we all know, essential oils are not made of chemicals.                                                                             |\n",
      "+---+-----+--------------------------------------------------------------------------------------------------------------------------------------+\n",
      "only showing top 20 rows\n",
      "\n"
     ]
    }
   ],
   "source": [
    "df2.show(truncate=False)"
   ]
  },
  {
   "cell_type": "code",
   "execution_count": 13,
   "metadata": {},
   "outputs": [],
   "source": [
    "df3 = df2.withColumn('tweet', regexp_replace('tweet', '[0-9`~!@#$%&<>?,\\']', ''))"
   ]
  },
  {
   "cell_type": "code",
   "execution_count": 14,
   "metadata": {},
   "outputs": [
    {
     "name": "stdout",
     "output_type": "stream",
     "text": [
      "+---+-----+-------------------------------------------------------------------------------------------------------------------------------+\n",
      "|id |label|tweet                                                                                                                          |\n",
      "+---+-----+-------------------------------------------------------------------------------------------------------------------------------+\n",
      "|1  |1    | user when a father is disfunctional and is so selfish he drags his kids into his disfunction.   run                           |\n",
      "|2  |0    |user user thanks for lyft credit i cant use cause they dont offer wheelchair vans in pdx.    disapointed getthanked            |\n",
      "|3  |1    |user that was fucking weird                                                                                                    |\n",
      "|4  |1    |userthat was so shitty                                                                                                         |\n",
      "|5  |0    | factsguide society now    motivation                                                                                          |\n",
      "|6  |0    | huge fan fare and big talking before they leave. chaos and pay disputes when they get there. allshowandnogo                   |\n",
      "|7  |0    | user camping tomorrow user user user user user user user danny                                                                |\n",
      "|8  |0    |the next school year is the year for exams. cant think about that  school exams   hate imagine actorslife revolutionschool girl|\n",
      "|9  |0    |we won love the land allin cavs champions cleveland clevelandcavaliers                                                         |\n",
      "|10 |1    | you are so boring                                                                                                             |\n",
      "|11 |0    |  ireland consumer price index mom climbed from previous . to . in may   blog silver gold forex                                |\n",
      "|12 |0    |we are so selfish. orlando standwithorlando pulseshooting orlandoshooting biggerproblems selfish heabreaking   values love     |\n",
      "|13 |0    |i get to see my daddy today   days gettingfed                                                                                  |\n",
      "|14 |1    |i wont spare you                                                                                                               |\n",
      "|15 |1    |it was not good for me                                                                                                         |\n",
      "|16 |1    |ouch...junior is angrygot junior yugyoem   omg                                                                                 |\n",
      "|17 |0    |i am thankful for having a paner. thankful positive                                                                            |\n",
      "|18 |1    |retweet if you agree                                                                                                           |\n",
      "|19 |0    |its friday  smiles all around via ig user user cookies make people                                                             |\n",
      "|20 |0    |as we all know essential oils are not made of chemicals.                                                                       |\n",
      "+---+-----+-------------------------------------------------------------------------------------------------------------------------------+\n",
      "only showing top 20 rows\n",
      "\n"
     ]
    }
   ],
   "source": [
    "df3.show(truncate=False)"
   ]
  },
  {
   "cell_type": "code",
   "execution_count": 15,
   "metadata": {},
   "outputs": [],
   "source": [
    "df4 = df3.withColumn('tweet', regexp_replace('tweet', 'http://*.*.com', ''))"
   ]
  },
  {
   "cell_type": "code",
   "execution_count": 16,
   "metadata": {},
   "outputs": [
    {
     "name": "stdout",
     "output_type": "stream",
     "text": [
      "+---+-----+-------------------------------------------------------------------------------------------------------------------------------+\n",
      "|id |label|tweet                                                                                                                          |\n",
      "+---+-----+-------------------------------------------------------------------------------------------------------------------------------+\n",
      "|1  |1    | user when a father is disfunctional and is so selfish he drags his kids into his disfunction.   run                           |\n",
      "|2  |0    |user user thanks for lyft credit i cant use cause they dont offer wheelchair vans in pdx.    disapointed getthanked            |\n",
      "|3  |1    |user that was fucking weird                                                                                                    |\n",
      "|4  |1    |userthat was so shitty                                                                                                         |\n",
      "|5  |0    | factsguide society now    motivation                                                                                          |\n",
      "|6  |0    | huge fan fare and big talking before they leave. chaos and pay disputes when they get there. allshowandnogo                   |\n",
      "|7  |0    | user camping tomorrow user user user user user user user danny                                                                |\n",
      "|8  |0    |the next school year is the year for exams. cant think about that  school exams   hate imagine actorslife revolutionschool girl|\n",
      "|9  |0    |we won love the land allin cavs champions cleveland clevelandcavaliers                                                         |\n",
      "|10 |1    | you are so boring                                                                                                             |\n",
      "|11 |0    |  ireland consumer price index mom climbed from previous . to . in may   blog silver gold forex                                |\n",
      "|12 |0    |we are so selfish. orlando standwithorlando pulseshooting orlandoshooting biggerproblems selfish heabreaking   values love     |\n",
      "|13 |0    |i get to see my daddy today   days gettingfed                                                                                  |\n",
      "|14 |1    |i wont spare you                                                                                                               |\n",
      "|15 |1    |it was not good for me                                                                                                         |\n",
      "|16 |1    |ouch...junior is angrygot junior yugyoem   omg                                                                                 |\n",
      "|17 |0    |i am thankful for having a paner. thankful positive                                                                            |\n",
      "|18 |1    |retweet if you agree                                                                                                           |\n",
      "|19 |0    |its friday  smiles all around via ig user user cookies make people                                                             |\n",
      "|20 |0    |as we all know essential oils are not made of chemicals.                                                                       |\n",
      "+---+-----+-------------------------------------------------------------------------------------------------------------------------------+\n",
      "only showing top 20 rows\n",
      "\n"
     ]
    }
   ],
   "source": [
    "df4.show(truncate=False)"
   ]
  },
  {
   "cell_type": "code",
   "execution_count": 17,
   "metadata": {},
   "outputs": [],
   "source": [
    "df5 = df4.withColumn('tweet', regexp_replace('tweet', 'www.*.com', ''))"
   ]
  },
  {
   "cell_type": "code",
   "execution_count": 18,
   "metadata": {},
   "outputs": [
    {
     "name": "stdout",
     "output_type": "stream",
     "text": [
      "+---+-----+-------------------------------------------------------------------------------------------------------------------------------+\n",
      "|id |label|tweet                                                                                                                          |\n",
      "+---+-----+-------------------------------------------------------------------------------------------------------------------------------+\n",
      "|1  |1    | user when a father is disfunctional and is so selfish he drags his kids into his disfunction.   run                           |\n",
      "|2  |0    |user user thanks for lyft credit i cant use cause they dont offer wheelchair vans in pdx.    disapointed getthanked            |\n",
      "|3  |1    |user that was fucking weird                                                                                                    |\n",
      "|4  |1    |userthat was so shitty                                                                                                         |\n",
      "|5  |0    | factsguide society now    motivation                                                                                          |\n",
      "|6  |0    | huge fan fare and big talking before they leave. chaos and pay disputes when they get there. allshowandnogo                   |\n",
      "|7  |0    | user camping tomorrow user user user user user user user danny                                                                |\n",
      "|8  |0    |the next school year is the year for exams. cant think about that  school exams   hate imagine actorslife revolutionschool girl|\n",
      "|9  |0    |we won love the land allin cavs champions cleveland clevelandcavaliers                                                         |\n",
      "|10 |1    | you are so boring                                                                                                             |\n",
      "|11 |0    |  ireland consumer price index mom climbed from previous . to . in may   blog silver gold forex                                |\n",
      "|12 |0    |we are so selfish. orlando standwithorlando pulseshooting orlandoshooting biggerproblems selfish heabreaking   values love     |\n",
      "|13 |0    |i get to see my daddy today   days gettingfed                                                                                  |\n",
      "|14 |1    |i wont spare you                                                                                                               |\n",
      "|15 |1    |it was not good for me                                                                                                         |\n",
      "|16 |1    |ouch...junior is angrygot junior yugyoem   omg                                                                                 |\n",
      "|17 |0    |i am thankful for having a paner. thankful positive                                                                            |\n",
      "|18 |1    |retweet if you agree                                                                                                           |\n",
      "|19 |0    |its friday  smiles all around via ig user user cookies make people                                                             |\n",
      "|20 |0    |as we all know essential oils are not made of chemicals.                                                                       |\n",
      "+---+-----+-------------------------------------------------------------------------------------------------------------------------------+\n",
      "only showing top 20 rows\n",
      "\n"
     ]
    }
   ],
   "source": [
    "df5.show(truncate=False)"
   ]
  },
  {
   "cell_type": "code",
   "execution_count": 19,
   "metadata": {},
   "outputs": [],
   "source": [
    "df6 = df5.withColumn('tweet', regexp_replace('tweet', '\\.', ''))"
   ]
  },
  {
   "cell_type": "code",
   "execution_count": 20,
   "metadata": {},
   "outputs": [
    {
     "name": "stdout",
     "output_type": "stream",
     "text": [
      "+---+-----+------------------------------------------------------------------------------------------------------------------------------+\n",
      "|id |label|tweet                                                                                                                         |\n",
      "+---+-----+------------------------------------------------------------------------------------------------------------------------------+\n",
      "|1  |1    | user when a father is disfunctional and is so selfish he drags his kids into his disfunction   run                           |\n",
      "|2  |0    |user user thanks for lyft credit i cant use cause they dont offer wheelchair vans in pdx    disapointed getthanked            |\n",
      "|3  |1    |user that was fucking weird                                                                                                   |\n",
      "|4  |1    |userthat was so shitty                                                                                                        |\n",
      "|5  |0    | factsguide society now    motivation                                                                                         |\n",
      "|6  |0    | huge fan fare and big talking before they leave chaos and pay disputes when they get there allshowandnogo                    |\n",
      "|7  |0    | user camping tomorrow user user user user user user user danny                                                               |\n",
      "|8  |0    |the next school year is the year for exams cant think about that  school exams   hate imagine actorslife revolutionschool girl|\n",
      "|9  |0    |we won love the land allin cavs champions cleveland clevelandcavaliers                                                        |\n",
      "|10 |1    | you are so boring                                                                                                            |\n",
      "|11 |0    |  ireland consumer price index mom climbed from previous  to  in may   blog silver gold forex                                 |\n",
      "|12 |0    |we are so selfish orlando standwithorlando pulseshooting orlandoshooting biggerproblems selfish heabreaking   values love     |\n",
      "|13 |0    |i get to see my daddy today   days gettingfed                                                                                 |\n",
      "|14 |1    |i wont spare you                                                                                                              |\n",
      "|15 |1    |it was not good for me                                                                                                        |\n",
      "|16 |1    |ouchjunior is angrygot junior yugyoem   omg                                                                                   |\n",
      "|17 |0    |i am thankful for having a paner thankful positive                                                                            |\n",
      "|18 |1    |retweet if you agree                                                                                                          |\n",
      "|19 |0    |its friday  smiles all around via ig user user cookies make people                                                            |\n",
      "|20 |0    |as we all know essential oils are not made of chemicals                                                                       |\n",
      "+---+-----+------------------------------------------------------------------------------------------------------------------------------+\n",
      "only showing top 20 rows\n",
      "\n"
     ]
    }
   ],
   "source": [
    "df6.show(truncate=False)"
   ]
  },
  {
   "cell_type": "code",
   "execution_count": 21,
   "metadata": {},
   "outputs": [],
   "source": [
    "tokenizer=Tokenizer(inputCol=\"tweet\",outputCol=\"words\")\n",
    "wordData=tokenizer.transform(df6)"
   ]
  },
  {
   "cell_type": "code",
   "execution_count": 22,
   "metadata": {},
   "outputs": [
    {
     "name": "stdout",
     "output_type": "stream",
     "text": [
      "+---+-----+--------------------+--------------------+\n",
      "| id|label|               tweet|               words|\n",
      "+---+-----+--------------------+--------------------+\n",
      "|  1|    1| user when a fath...|[, user, when, a,...|\n",
      "|  2|    0|user user thanks ...|[user, user, than...|\n",
      "|  3|    1|user that was fuc...|[user, that, was,...|\n",
      "|  4|    1|userthat was so s...|[userthat, was, s...|\n",
      "|  5|    0| factsguide socie...|[, factsguide, so...|\n",
      "|  6|    0| huge fan fare an...|[, huge, fan, far...|\n",
      "|  7|    0| user camping tom...|[, user, camping,...|\n",
      "|  8|    0|the next school y...|[the, next, schoo...|\n",
      "|  9|    0|we won love the l...|[we, won, love, t...|\n",
      "| 10|    1|   you are so boring|[, you, are, so, ...|\n",
      "| 11|    0|  ireland consume...|[, , ireland, con...|\n",
      "| 12|    0|we are so selfish...|[we, are, so, sel...|\n",
      "| 13|    0|i get to see my d...|[i, get, to, see,...|\n",
      "| 14|    1|  i wont spare you  |[i, wont, spare, ...|\n",
      "| 15|    1|it was not good f...|[it, was, not, go...|\n",
      "| 16|    1|ouchjunior is ang...|[ouchjunior, is, ...|\n",
      "| 17|    0|i am thankful for...|[i, am, thankful,...|\n",
      "| 18|    1|retweet if you ag...|[retweet, if, you...|\n",
      "| 19|    0|its friday  smile...|[its, friday, , s...|\n",
      "| 20|    0|as we all know es...|[as, we, all, kno...|\n",
      "+---+-----+--------------------+--------------------+\n",
      "only showing top 20 rows\n",
      "\n"
     ]
    }
   ],
   "source": [
    "wordData.show()"
   ]
  },
  {
   "cell_type": "code",
   "execution_count": 23,
   "metadata": {},
   "outputs": [],
   "source": [
    "remover=StopWordsRemover(inputCol=\"words\",outputCol=\"word_clean\")\n",
    "word_clean_data=remover.transform(wordData)"
   ]
  },
  {
   "cell_type": "code",
   "execution_count": 24,
   "metadata": {},
   "outputs": [
    {
     "name": "stdout",
     "output_type": "stream",
     "text": [
      "+---+-----+--------------------+--------------------+--------------------+\n",
      "| id|label|               tweet|               words|          word_clean|\n",
      "+---+-----+--------------------+--------------------+--------------------+\n",
      "|  1|    1| user when a fath...|[, user, when, a,...|[, user, father, ...|\n",
      "|  2|    0|user user thanks ...|[user, user, than...|[user, user, than...|\n",
      "|  3|    1|user that was fuc...|[user, that, was,...|[user, fucking, w...|\n",
      "|  4|    1|userthat was so s...|[userthat, was, s...|  [userthat, shitty]|\n",
      "|  5|    0| factsguide socie...|[, factsguide, so...|[, factsguide, so...|\n",
      "|  6|    0| huge fan fare an...|[, huge, fan, far...|[, huge, fan, far...|\n",
      "|  7|    0| user camping tom...|[, user, camping,...|[, user, camping,...|\n",
      "|  8|    0|the next school y...|[the, next, schoo...|[next, school, ye...|\n",
      "|  9|    0|we won love the l...|[we, won, love, t...|[won, love, land,...|\n",
      "| 10|    1|   you are so boring|[, you, are, so, ...|          [, boring]|\n",
      "| 11|    0|  ireland consume...|[, , ireland, con...|[, , ireland, con...|\n",
      "| 12|    0|we are so selfish...|[we, are, so, sel...|[selfish, orlando...|\n",
      "| 13|    0|i get to see my d...|[i, get, to, see,...|[get, see, daddy,...|\n",
      "| 14|    1|  i wont spare you  |[i, wont, spare, ...|       [wont, spare]|\n",
      "| 15|    1|it was not good f...|[it, was, not, go...|              [good]|\n",
      "| 16|    1|ouchjunior is ang...|[ouchjunior, is, ...|[ouchjunior, angr...|\n",
      "| 17|    0|i am thankful for...|[i, am, thankful,...|[thankful, paner,...|\n",
      "| 18|    1|retweet if you ag...|[retweet, if, you...|    [retweet, agree]|\n",
      "| 19|    0|its friday  smile...|[its, friday, , s...|[friday, , smiles...|\n",
      "| 20|    0|as we all know es...|[as, we, all, kno...|[know, essential,...|\n",
      "+---+-----+--------------------+--------------------+--------------------+\n",
      "only showing top 20 rows\n",
      "\n"
     ]
    }
   ],
   "source": [
    "word_clean_data.show()"
   ]
  },
  {
   "cell_type": "code",
   "execution_count": 25,
   "metadata": {},
   "outputs": [],
   "source": [
    "stemmer = SnowballStemmer(language='english')"
   ]
  },
  {
   "cell_type": "code",
   "execution_count": 26,
   "metadata": {},
   "outputs": [],
   "source": [
    "stemmer_udf = udf(lambda tokens: [stemmer.stem(token) for token in tokens])"
   ]
  },
  {
   "cell_type": "code",
   "execution_count": null,
   "metadata": {},
   "outputs": [],
   "source": []
  },
  {
   "cell_type": "code",
   "execution_count": null,
   "metadata": {},
   "outputs": [],
   "source": []
  },
  {
   "cell_type": "code",
   "execution_count": 27,
   "metadata": {},
   "outputs": [
    {
     "name": "stdout",
     "output_type": "stream",
     "text": [
      "CountVectorizer_4b9eb8d221f2\n"
     ]
    }
   ],
   "source": [
    "count=CountVectorizer(inputCol=\"word_clean\",outputCol=\"rawFeatures\")\n",
    "print(count)"
   ]
  },
  {
   "cell_type": "code",
   "execution_count": 28,
   "metadata": {},
   "outputs": [
    {
     "name": "stdout",
     "output_type": "stream",
     "text": [
      "CountVectorizer_4b9eb8d221f2\n"
     ]
    }
   ],
   "source": [
    "model=count.fit(word_clean_data)\n",
    "print(model)"
   ]
  },
  {
   "cell_type": "code",
   "execution_count": 29,
   "metadata": {},
   "outputs": [],
   "source": [
    "featurizedData=model.transform(word_clean_data)"
   ]
  },
  {
   "cell_type": "code",
   "execution_count": 30,
   "metadata": {},
   "outputs": [
    {
     "name": "stdout",
     "output_type": "stream",
     "text": [
      "+---+-----+--------------------+--------------------+--------------------+--------------------+\n",
      "| id|label|               tweet|               words|          word_clean|         rawFeatures|\n",
      "+---+-----+--------------------+--------------------+--------------------+--------------------+\n",
      "|  1|    1| user when a fath...|[, user, when, a,...|[, user, father, ...|(39572,[0,1,161,1...|\n",
      "|  2|    0|user user thanks ...|[user, user, than...|[user, user, than...|(39572,[0,1,19,22...|\n",
      "|  3|    1|user that was fuc...|[user, that, was,...|[user, fucking, w...|(39572,[1,525,126...|\n",
      "|  4|    1|userthat was so s...|[userthat, was, s...|  [userthat, shitty]|(39572,[2934,3100...|\n",
      "|  5|    0| factsguide socie...|[, factsguide, so...|[, factsguide, so...|(39572,[0,195,149...|\n",
      "|  6|    0| huge fan fare an...|[, huge, fan, far...|[, huge, fan, far...|(39572,[0,15,107,...|\n",
      "|  7|    0| user camping tom...|[, user, camping,...|[, user, camping,...|(39572,[0,1,57,19...|\n",
      "|  8|    0|the next school y...|[the, next, schoo...|[next, school, ye...|(39572,[0,19,63,7...|\n",
      "|  9|    0|we won love the l...|[we, won, love, t...|[won, love, land,...|(39572,[2,747,983...|\n",
      "| 10|    1|   you are so boring|[, you, are, so, ...|          [, boring]|(39572,[0,1979],[...|\n",
      "| 11|    0|  ireland consume...|[, , ireland, con...|[, , ireland, con...|(39572,[0,66,88,9...|\n",
      "| 12|    0|we are so selfish...|[we, are, so, sel...|[selfish, orlando...|(39572,[0,2,61,68...|\n",
      "| 13|    0|i get to see my d...|[i, get, to, see,...|[get, see, daddy,...|(39572,[0,11,15,2...|\n",
      "| 14|    1|  i wont spare you  |[i, wont, spare, ...|       [wont, spare]|(39572,[268,5830]...|\n",
      "| 15|    1|it was not good f...|[it, was, not, go...|              [good]|  (39572,[18],[1.0])|\n",
      "| 16|    1|ouchjunior is ang...|[ouchjunior, is, ...|[ouchjunior, angr...|(39572,[0,308,436...|\n",
      "| 17|    0|i am thankful for...|[i, am, thankful,...|[thankful, paner,...|(39572,[13,14,164...|\n",
      "| 18|    1|retweet if you ag...|[retweet, if, you...|    [retweet, agree]|(39572,[335,787],...|\n",
      "| 19|    0|its friday  smile...|[its, friday, , s...|[friday, , smiles...|(39572,[0,1,16,33...|\n",
      "| 20|    0|as we all know es...|[as, we, all, kno...|[know, essential,...|(39572,[55,138,17...|\n",
      "+---+-----+--------------------+--------------------+--------------------+--------------------+\n",
      "only showing top 20 rows\n",
      "\n"
     ]
    }
   ],
   "source": [
    "featurizedData.show()"
   ]
  },
  {
   "cell_type": "code",
   "execution_count": 31,
   "metadata": {},
   "outputs": [],
   "source": [
    "idf=IDF(inputCol=\"rawFeatures\",outputCol=\"features\")"
   ]
  },
  {
   "cell_type": "code",
   "execution_count": 32,
   "metadata": {},
   "outputs": [],
   "source": [
    "idfModel=idf.fit(featurizedData)"
   ]
  },
  {
   "cell_type": "code",
   "execution_count": 33,
   "metadata": {},
   "outputs": [],
   "source": [
    "rescaledData=idfModel.transform(featurizedData)"
   ]
  },
  {
   "cell_type": "code",
   "execution_count": 34,
   "metadata": {},
   "outputs": [
    {
     "name": "stdout",
     "output_type": "stream",
     "text": [
      "+-----+--------------------+\n",
      "|label|            features|\n",
      "+-----+--------------------+\n",
      "|    1|(39572,[0,1,161,1...|\n",
      "|    0|(39572,[0,1,19,22...|\n",
      "|    1|(39572,[1,525,126...|\n",
      "|    1|(39572,[2934,3100...|\n",
      "|    0|(39572,[0,195,149...|\n",
      "|    0|(39572,[0,15,107,...|\n",
      "|    0|(39572,[0,1,57,19...|\n",
      "|    0|(39572,[0,19,63,7...|\n",
      "|    0|(39572,[2,747,983...|\n",
      "|    1|(39572,[0,1979],[...|\n",
      "|    0|(39572,[0,66,88,9...|\n",
      "|    0|(39572,[0,2,61,68...|\n",
      "|    0|(39572,[0,11,15,2...|\n",
      "|    1|(39572,[268,5830]...|\n",
      "|    1|(39572,[18],[3.66...|\n",
      "|    1|(39572,[0,308,436...|\n",
      "|    0|(39572,[13,14,164...|\n",
      "|    1|(39572,[335,787],...|\n",
      "|    0|(39572,[0,1,16,33...|\n",
      "|    0|(39572,[55,138,17...|\n",
      "+-----+--------------------+\n",
      "only showing top 20 rows\n",
      "\n"
     ]
    }
   ],
   "source": [
    "rescaledData.select(\"label\",\"features\").show()"
   ]
  },
  {
   "cell_type": "code",
   "execution_count": 35,
   "metadata": {},
   "outputs": [],
   "source": [
    "seed=0\n",
    "trainDf,testDf=rescaledData.randomSplit([0.7,0.3],seed)"
   ]
  },
  {
   "cell_type": "code",
   "execution_count": 36,
   "metadata": {},
   "outputs": [
    {
     "data": {
      "text/plain": [
       "22457"
      ]
     },
     "execution_count": 36,
     "metadata": {},
     "output_type": "execute_result"
    }
   ],
   "source": [
    "trainDf.count()"
   ]
  },
  {
   "cell_type": "code",
   "execution_count": 37,
   "metadata": {},
   "outputs": [
    {
     "data": {
      "text/plain": [
       "9505"
      ]
     },
     "execution_count": 37,
     "metadata": {},
     "output_type": "execute_result"
    }
   ],
   "source": [
    "testDf.count()"
   ]
  },
  {
   "cell_type": "code",
   "execution_count": null,
   "metadata": {},
   "outputs": [],
   "source": []
  },
  {
   "cell_type": "code",
   "execution_count": null,
   "metadata": {},
   "outputs": [],
   "source": []
  },
  {
   "cell_type": "code",
   "execution_count": 38,
   "metadata": {},
   "outputs": [],
   "source": [
    "# Logistsic Regression implementation"
   ]
  },
  {
   "cell_type": "code",
   "execution_count": 39,
   "metadata": {},
   "outputs": [],
   "source": [
    "lr=LogisticRegression(maxIter=15)"
   ]
  },
  {
   "cell_type": "code",
   "execution_count": 40,
   "metadata": {},
   "outputs": [],
   "source": [
    "paramGrid_lr=ParamGridBuilder().build()# some part is remaining to add"
   ]
  },
  {
   "cell_type": "code",
   "execution_count": 41,
   "metadata": {},
   "outputs": [],
   "source": [
    "crossval_lr=CrossValidator(estimator=lr,estimatorParamMaps=paramGrid_lr,evaluator=BinaryClassificationEvaluator(),numFolds=8)"
   ]
  },
  {
   "cell_type": "code",
   "execution_count": 42,
   "metadata": {},
   "outputs": [],
   "source": [
    "cvModel_lr=crossval_lr.fit(trainDf)"
   ]
  },
  {
   "cell_type": "code",
   "execution_count": 43,
   "metadata": {},
   "outputs": [],
   "source": [
    "best_model_lr=cvModel_lr.bestModel.summary"
   ]
  },
  {
   "cell_type": "code",
   "execution_count": 44,
   "metadata": {},
   "outputs": [],
   "source": [
    "roc = best_model_lr.roc.toPandas()"
   ]
  },
  {
   "cell_type": "code",
   "execution_count": 45,
   "metadata": {},
   "outputs": [
    {
     "data": {
      "image/png": "[encoded data removed]",
      "text/plain": [
       "<Figure size 432x288 with 1 Axes>"
      ]
     },
     "metadata": {
      "needs_background": "light"
     },
     "output_type": "display_data"
    }
   ],
   "source": [
    "plt.plot(roc['FPR'],roc['TPR'])\n",
    "plt.ylabel('False Positive Rate')\n",
    "plt.xlabel('True Positive Rate')\n",
    "plt.title('ROC Curve')\n",
    "plt.show()"
   ]
  },
  {
   "cell_type": "code",
   "execution_count": 46,
   "metadata": {},
   "outputs": [],
   "source": [
    "report=BinaryClassificationEvaluator(rawPredictionCol=\"prediction\",labelCol=\"label\",metricName=\"areaUnderROC\")"
   ]
  },
  {
   "cell_type": "code",
   "execution_count": 47,
   "metadata": {},
   "outputs": [
    {
     "data": {
      "text/plain": [
       "0.9983836868244412"
      ]
     },
     "execution_count": 47,
     "metadata": {},
     "output_type": "execute_result"
    }
   ],
   "source": [
    "report.evaluate(best_model_lr.predictions)"
   ]
  },
  {
   "cell_type": "code",
   "execution_count": 48,
   "metadata": {},
   "outputs": [
    {
     "data": {
      "image/png": "[encoded data removed]",
      "text/plain": [
       "<Figure size 432x288 with 1 Axes>"
      ]
     },
     "metadata": {
      "needs_background": "light"
     },
     "output_type": "display_data"
    }
   ],
   "source": [
    "pr = best_model_lr.pr.toPandas()\n",
    "plt.plot(pr['recall'],pr['precision'])\n",
    "plt.ylabel('Precision')\n",
    "plt.xlabel('Recall')\n",
    "plt.show()"
   ]
  },
  {
   "cell_type": "code",
   "execution_count": 49,
   "metadata": {},
   "outputs": [],
   "source": [
    "pred_lr=MulticlassClassificationEvaluator(predictionCol=\"prediction\",labelCol=\"label\",metricName=\"f1\")"
   ]
  },
  {
   "cell_type": "code",
   "execution_count": 50,
   "metadata": {},
   "outputs": [
    {
     "data": {
      "text/plain": [
       "0.9996881575865108"
      ]
     },
     "execution_count": 50,
     "metadata": {},
     "output_type": "execute_result"
    }
   ],
   "source": [
    "pred_lr.evaluate(best_model_lr.predictions)"
   ]
  },
  {
   "cell_type": "code",
   "execution_count": 51,
   "metadata": {},
   "outputs": [],
   "source": [
    "pred_lr=MulticlassClassificationEvaluator(predictionCol=\"prediction\",labelCol=\"label\",metricName=\"accuracy\")"
   ]
  },
  {
   "cell_type": "code",
   "execution_count": 52,
   "metadata": {},
   "outputs": [
    {
     "data": {
      "text/plain": [
       "0.9996882931825266"
      ]
     },
     "execution_count": 52,
     "metadata": {},
     "output_type": "execute_result"
    }
   ],
   "source": [
    "pred_lr.evaluate(best_model_lr.predictions)"
   ]
  },
  {
   "cell_type": "code",
   "execution_count": 53,
   "metadata": {},
   "outputs": [],
   "source": [
    "train_fit_lr=best_model_lr.predictions.select('label','prediction')"
   ]
  },
  {
   "cell_type": "code",
   "execution_count": 54,
   "metadata": {},
   "outputs": [
    {
     "name": "stdout",
     "output_type": "stream",
     "text": [
      "+-----+----------+-----+\n",
      "|label|prediction|count|\n",
      "+-----+----------+-----+\n",
      "|  1.0|       1.0| 1589|\n",
      "|  0.0|       1.0|    2|\n",
      "|  1.0|       0.0|    5|\n",
      "|  0.0|       0.0|20861|\n",
      "+-----+----------+-----+\n",
      "\n"
     ]
    }
   ],
   "source": [
    "train_fit_lr.groupBy('label','prediction').count().show()"
   ]
  },
  {
   "cell_type": "code",
   "execution_count": 63,
   "metadata": {},
   "outputs": [
    {
     "name": "stdout",
     "output_type": "stream",
     "text": [
      "+---+-----+--------------------+--------------------+--------------------+--------------------+--------------------+\n",
      "| id|label|               tweet|               words|          word_clean|         rawFeatures|            features|\n",
      "+---+-----+--------------------+--------------------+--------------------+--------------------+--------------------+\n",
      "|  1|    1| user when a fath...|[, user, when, a,...|[, user, father, ...|(39572,[0,1,161,1...|(39572,[0,1,161,1...|\n",
      "|  4|    1|userthat was so s...|[userthat, was, s...|  [userthat, shitty]|(39572,[2934,3100...|(39572,[2934,3100...|\n",
      "|  5|    0| factsguide socie...|[, factsguide, so...|[, factsguide, so...|(39572,[0,195,149...|(39572,[0,195,149...|\n",
      "|  6|    0| huge fan fare an...|[, huge, fan, far...|[, huge, fan, far...|(39572,[0,15,107,...|(39572,[0,15,107,...|\n",
      "|  8|    0|the next school y...|[the, next, schoo...|[next, school, ye...|(39572,[0,19,63,7...|(39572,[0,19,63,7...|\n",
      "+---+-----+--------------------+--------------------+--------------------+--------------------+--------------------+\n",
      "only showing top 5 rows\n",
      "\n"
     ]
    }
   ],
   "source": [
    "testDf.show(5)"
   ]
  },
  {
   "cell_type": "code",
   "execution_count": 55,
   "metadata": {},
   "outputs": [],
   "source": [
    "predictions_lr=cvModel_lr.transform(testDf)"
   ]
  },
  {
   "cell_type": "code",
   "execution_count": 99,
   "metadata": {},
   "outputs": [
    {
     "name": "stdout",
     "output_type": "stream",
     "text": [
      "DataFrame[id: int, label: int, tweet: string, words: array<string>, word_clean: array<string>, rawFeatures: vector, features: vector, rawPrediction: vector, probability: vector, prediction: double]\n"
     ]
    }
   ],
   "source": [
    "print(predictions_lr)"
   ]
  },
  {
   "cell_type": "code",
   "execution_count": 56,
   "metadata": {},
   "outputs": [
    {
     "name": "stdout",
     "output_type": "stream",
     "text": [
      "+---+-----+--------------------+--------------------+--------------------+--------------------+--------------------+--------------------+--------------------+----------+\n",
      "| id|label|               tweet|               words|          word_clean|         rawFeatures|            features|       rawPrediction|         probability|prediction|\n",
      "+---+-----+--------------------+--------------------+--------------------+--------------------+--------------------+--------------------+--------------------+----------+\n",
      "|  1|    1| user when a fath...|[, user, when, a,...|[, user, father, ...|(39572,[0,1,161,1...|(39572,[0,1,161,1...|[14.3160126943883...|[0.99999939377419...|       0.0|\n",
      "|  4|    1|userthat was so s...|[userthat, was, s...|  [userthat, shitty]|(39572,[2934,3100...|(39572,[2934,3100...|[-6.3304282171527...|[0.00177810355104...|       1.0|\n",
      "|  5|    0| factsguide socie...|[, factsguide, so...|[, factsguide, so...|(39572,[0,195,149...|(39572,[0,195,149...|[13.9331862653385...|[0.99999911101649...|       0.0|\n",
      "|  6|    0| huge fan fare an...|[, huge, fan, far...|[, huge, fan, far...|(39572,[0,15,107,...|(39572,[0,15,107,...|[18.5263638296388...|[0.99999999100290...|       0.0|\n",
      "|  8|    0|the next school y...|[the, next, schoo...|[next, school, ye...|(39572,[0,19,63,7...|(39572,[0,19,63,7...|[10.5948875324189...|[0.99997495690897...|       0.0|\n",
      "+---+-----+--------------------+--------------------+--------------------+--------------------+--------------------+--------------------+--------------------+----------+\n",
      "only showing top 5 rows\n",
      "\n"
     ]
    }
   ],
   "source": [
    "predictions_lr.show(5)"
   ]
  },
  {
   "cell_type": "code",
   "execution_count": 57,
   "metadata": {},
   "outputs": [
    {
     "name": "stdout",
     "output_type": "stream",
     "text": [
      "+-----+----------+\n",
      "|label|prediction|\n",
      "+-----+----------+\n",
      "|    1|       0.0|\n",
      "|    1|       1.0|\n",
      "|    0|       0.0|\n",
      "|    0|       0.0|\n",
      "|    0|       0.0|\n",
      "+-----+----------+\n",
      "only showing top 5 rows\n",
      "\n"
     ]
    }
   ],
   "source": [
    "predictions_lr.select('label','prediction').show(5)"
   ]
  },
  {
   "cell_type": "code",
   "execution_count": 108,
   "metadata": {},
   "outputs": [
    {
     "name": "stdout",
     "output_type": "stream",
     "text": [
      "+----------+\n",
      "|prediction|\n",
      "+----------+\n",
      "|       0.0|\n",
      "|       1.0|\n",
      "+----------+\n",
      "only showing top 2 rows\n",
      "\n"
     ]
    }
   ],
   "source": [
    "predictions_lr.select('prediction').show(2)"
   ]
  },
  {
   "cell_type": "code",
   "execution_count": 58,
   "metadata": {},
   "outputs": [
    {
     "name": "stdout",
     "output_type": "stream",
     "text": [
      "+-----+----------+-----+\n",
      "|label|prediction|count|\n",
      "+-----+----------+-----+\n",
      "|    1|       0.0|  270|\n",
      "|    0|       0.0| 8657|\n",
      "|    1|       1.0|  385|\n",
      "|    0|       1.0|  193|\n",
      "+-----+----------+-----+\n",
      "\n"
     ]
    }
   ],
   "source": [
    "predictions_lr.groupBy('label','prediction').count().show()"
   ]
  },
  {
   "cell_type": "code",
   "execution_count": 135,
   "metadata": {},
   "outputs": [
    {
     "data": {
      "text/plain": [
       "0.7829891749687324"
      ]
     },
     "execution_count": 135,
     "metadata": {},
     "output_type": "execute_result"
    }
   ],
   "source": [
    "my_eval_lr = BinaryClassificationEvaluator(rawPredictionCol='prediction', labelCol='label', metricName='areaUnderROC')\n",
    "my_eval_lr.evaluate(predictions_lr)"
   ]
  },
  {
   "cell_type": "code",
   "execution_count": 60,
   "metadata": {},
   "outputs": [
    {
     "data": {
      "text/plain": [
       "0.9512887953708574"
      ]
     },
     "execution_count": 60,
     "metadata": {},
     "output_type": "execute_result"
    }
   ],
   "source": [
    "my_mc_lr = MulticlassClassificationEvaluator(predictionCol='prediction', labelCol='label', metricName='accuracy')\n",
    "my_mc_lr.evaluate(predictions_lr)"
   ]
  },
  {
   "cell_type": "code",
   "execution_count": 61,
   "metadata": {},
   "outputs": [
    {
     "data": {
      "text/plain": [
       "0.9498732996143916"
      ]
     },
     "execution_count": 61,
     "metadata": {},
     "output_type": "execute_result"
    }
   ],
   "source": [
    "my_mc_lr = MulticlassClassificationEvaluator(predictionCol='prediction', labelCol='label', metricName='f1')\n",
    "my_mc_lr.evaluate(predictions_lr)"
   ]
  },
  {
   "cell_type": "code",
   "execution_count": null,
   "metadata": {},
   "outputs": [],
   "source": []
  },
  {
   "cell_type": "code",
   "execution_count": null,
   "metadata": {},
   "outputs": [],
   "source": []
  },
  {
   "cell_type": "code",
   "execution_count": null,
   "metadata": {},
   "outputs": [],
   "source": []
  },
  {
   "cell_type": "code",
   "execution_count": null,
   "metadata": {},
   "outputs": [],
   "source": [
    "# user input(has to be implemented)"
   ]
  },
  {
   "cell_type": "code",
   "execution_count": 109,
   "metadata": {},
   "outputs": [],
   "source": [
    "testdata=spark.read.csv(\"test.csv\",sep=\",\",inferSchema=True,header=False)"
   ]
  },
  {
   "cell_type": "code",
   "execution_count": 110,
   "metadata": {},
   "outputs": [],
   "source": [
    "testdata1=testdata.withColumnRenamed('_c0',\"id\").withColumnRenamed('_c1','label').withColumnRenamed('_c2','tweet')"
   ]
  },
  {
   "cell_type": "code",
   "execution_count": 111,
   "metadata": {},
   "outputs": [],
   "source": [
    "testdata2 = testdata1.withColumn('tweet', regexp_replace('tweet', '[^a-z0-9A-Z`~!@#$%&<>?., ]', ''))"
   ]
  },
  {
   "cell_type": "code",
   "execution_count": 112,
   "metadata": {},
   "outputs": [],
   "source": [
    "testdata3 = testdata2.withColumn('tweet', regexp_replace('tweet', '[0-9`~!@#$%&<>?,\\']', ''))"
   ]
  },
  {
   "cell_type": "code",
   "execution_count": 113,
   "metadata": {},
   "outputs": [],
   "source": [
    "testdata4 = testdata3.withColumn('tweet', regexp_replace('tweet', 'http://*.*.com', ''))"
   ]
  },
  {
   "cell_type": "code",
   "execution_count": 114,
   "metadata": {},
   "outputs": [],
   "source": [
    "testdata5 = testdata4.withColumn('tweet', regexp_replace('tweet', 'www.*.com', ''))"
   ]
  },
  {
   "cell_type": "code",
   "execution_count": 115,
   "metadata": {},
   "outputs": [],
   "source": [
    "testdata6 = testdata5.withColumn('tweet', regexp_replace('tweet', '\\.', ''))"
   ]
  },
  {
   "cell_type": "code",
   "execution_count": 116,
   "metadata": {},
   "outputs": [],
   "source": [
    "test_tokenizer=Tokenizer(inputCol=\"tweet\",outputCol=\"words\")\n",
    "test_wordData=tokenizer.transform(testdata6)"
   ]
  },
  {
   "cell_type": "code",
   "execution_count": 117,
   "metadata": {},
   "outputs": [
    {
     "name": "stdout",
     "output_type": "stream",
     "text": [
      "+---+-----+--------------+------------------+\n",
      "| id|label|         tweet|             words|\n",
      "+---+-----+--------------+------------------+\n",
      "|  1|    1|happy new year|[happy, new, year]|\n",
      "|  2|    0|   got to hell|   [got, to, hell]|\n",
      "+---+-----+--------------+------------------+\n",
      "\n"
     ]
    }
   ],
   "source": [
    "test_wordData.show()"
   ]
  },
  {
   "cell_type": "code",
   "execution_count": 118,
   "metadata": {},
   "outputs": [],
   "source": [
    "test_remover=StopWordsRemover(inputCol=\"words\",outputCol=\"word_clean\")\n",
    "test_word_clean_data=remover.transform(test_wordData)"
   ]
  },
  {
   "cell_type": "code",
   "execution_count": 119,
   "metadata": {},
   "outputs": [
    {
     "name": "stdout",
     "output_type": "stream",
     "text": [
      "+---+-----+--------------+------------------+------------------+\n",
      "| id|label|         tweet|             words|        word_clean|\n",
      "+---+-----+--------------+------------------+------------------+\n",
      "|  1|    1|happy new year|[happy, new, year]|[happy, new, year]|\n",
      "|  2|    0|   got to hell|   [got, to, hell]|       [got, hell]|\n",
      "+---+-----+--------------+------------------+------------------+\n",
      "\n"
     ]
    }
   ],
   "source": [
    "test_word_clean_data.show()"
   ]
  },
  {
   "cell_type": "code",
   "execution_count": 120,
   "metadata": {},
   "outputs": [
    {
     "name": "stdout",
     "output_type": "stream",
     "text": [
      "CountVectorizer_4f5e139cc6c4\n"
     ]
    }
   ],
   "source": [
    "count=CountVectorizer(inputCol=\"word_clean\",outputCol=\"rawFeatures\")\n",
    "print(count)"
   ]
  },
  {
   "cell_type": "code",
   "execution_count": 121,
   "metadata": {},
   "outputs": [
    {
     "name": "stdout",
     "output_type": "stream",
     "text": [
      "CountVectorizer_4f5e139cc6c4\n"
     ]
    }
   ],
   "source": [
    "model=count.fit(test_word_clean_data)\n",
    "print(model)"
   ]
  },
  {
   "cell_type": "code",
   "execution_count": 140,
   "metadata": {},
   "outputs": [],
   "source": [
    "featurizedData=model.transform(test_word_clean_data)"
   ]
  },
  {
   "cell_type": "code",
   "execution_count": 141,
   "metadata": {},
   "outputs": [
    {
     "name": "stdout",
     "output_type": "stream",
     "text": [
      "+---+-----+--------------+------------------+------------------+--------------------+\n",
      "| id|label|         tweet|             words|        word_clean|         rawFeatures|\n",
      "+---+-----+--------------+------------------+------------------+--------------------+\n",
      "|  1|    1|happy new year|[happy, new, year]|[happy, new, year]|(5,[2,3,4],[1.0,1...|\n",
      "|  2|    0|   got to hell|   [got, to, hell]|       [got, hell]| (5,[0,1],[1.0,1.0])|\n",
      "+---+-----+--------------+------------------+------------------+--------------------+\n",
      "\n"
     ]
    }
   ],
   "source": [
    "featurizedData.show()"
   ]
  },
  {
   "cell_type": "code",
   "execution_count": 124,
   "metadata": {},
   "outputs": [],
   "source": [
    "idf=IDF(inputCol=\"rawFeatures\",outputCol=\"features\")"
   ]
  },
  {
   "cell_type": "code",
   "execution_count": 125,
   "metadata": {},
   "outputs": [],
   "source": [
    "idfModel=idf.fit(featurizedData)"
   ]
  },
  {
   "cell_type": "code",
   "execution_count": 126,
   "metadata": {},
   "outputs": [],
   "source": [
    "rescaledData=idfModel.transform(featurizedData)"
   ]
  },
  {
   "cell_type": "code",
   "execution_count": 127,
   "metadata": {},
   "outputs": [
    {
     "name": "stdout",
     "output_type": "stream",
     "text": [
      "+-----+--------------------+\n",
      "|label|            features|\n",
      "+-----+--------------------+\n",
      "|    1|(5,[2,3,4],[0.405...|\n",
      "|    0|(5,[0,1],[0.40546...|\n",
      "+-----+--------------------+\n",
      "\n"
     ]
    }
   ],
   "source": [
    "rescaledData.select(\"label\",\"features\").show()"
   ]
  },
  {
   "cell_type": "code",
   "execution_count": 128,
   "metadata": {},
   "outputs": [
    {
     "name": "stdout",
     "output_type": "stream",
     "text": [
      "+---+-----+--------------+------------------+------------------+--------------------+--------------------+\n",
      "| id|label|         tweet|             words|        word_clean|         rawFeatures|            features|\n",
      "+---+-----+--------------+------------------+------------------+--------------------+--------------------+\n",
      "|  1|    1|happy new year|[happy, new, year]|[happy, new, year]|(5,[2,3,4],[1.0,1...|(5,[2,3,4],[0.405...|\n",
      "|  2|    0|   got to hell|   [got, to, hell]|       [got, hell]| (5,[0,1],[1.0,1.0])|(5,[0,1],[0.40546...|\n",
      "+---+-----+--------------+------------------+------------------+--------------------+--------------------+\n",
      "\n"
     ]
    }
   ],
   "source": [
    "rescaledData.show()"
   ]
  },
  {
   "cell_type": "code",
   "execution_count": null,
   "metadata": {},
   "outputs": [],
   "source": []
  },
  {
   "cell_type": "code",
   "execution_count": null,
   "metadata": {},
   "outputs": [],
   "source": []
  },
  {
   "cell_type": "code",
   "execution_count": null,
   "metadata": {},
   "outputs": [],
   "source": []
  },
  {
   "cell_type": "code",
   "execution_count": null,
   "metadata": {},
   "outputs": [],
   "source": []
  },
  {
   "cell_type": "code",
   "execution_count": null,
   "metadata": {},
   "outputs": [],
   "source": []
  },
  {
   "cell_type": "code",
   "execution_count": null,
   "metadata": {},
   "outputs": [],
   "source": []
  },
  {
   "cell_type": "code",
   "execution_count": null,
   "metadata": {},
   "outputs": [],
   "source": []
  },
  {
   "cell_type": "code",
   "execution_count": null,
   "metadata": {},
   "outputs": [],
   "source": []
  },
  {
   "cell_type": "code",
   "execution_count": null,
   "metadata": {},
   "outputs": [],
   "source": []
  },
  {
   "cell_type": "code",
   "execution_count": null,
   "metadata": {},
   "outputs": [],
   "source": []
  },
  {
   "cell_type": "code",
   "execution_count": null,
   "metadata": {},
   "outputs": [],
   "source": []
  },
  {
   "cell_type": "code",
   "execution_count": null,
   "metadata": {},
   "outputs": [],
   "source": []
  },
  {
   "cell_type": "code",
   "execution_count": null,
   "metadata": {},
   "outputs": [],
   "source": []
  },
  {
   "cell_type": "code",
   "execution_count": null,
   "metadata": {},
   "outputs": [],
   "source": []
  },
  {
   "cell_type": "code",
   "execution_count": 149,
   "metadata": {},
   "outputs": [],
   "source": [
    "#Naive bayes implementation\n",
    "nb = NaiveBayes()"
   ]
  },
  {
   "cell_type": "code",
   "execution_count": 150,
   "metadata": {},
   "outputs": [],
   "source": [
    "paramGrid_nb = ParamGridBuilder() \\\n",
    "    .addGrid(nb.smoothing, np.linspace(0.3, 10, 10)) \\\n",
    "    .build()"
   ]
  },
  {
   "cell_type": "code",
   "execution_count": 151,
   "metadata": {},
   "outputs": [],
   "source": [
    "crossval_nb = CrossValidator(estimator=nb,\n",
    "                          estimatorParamMaps=paramGrid_nb,\n",
    "                          evaluator=BinaryClassificationEvaluator(),\n",
    "                          numFolds= 5)"
   ]
  },
  {
   "cell_type": "code",
   "execution_count": 152,
   "metadata": {},
   "outputs": [],
   "source": [
    "cvModel_nb = crossval_nb.fit(trainDf)"
   ]
  },
  {
   "cell_type": "code",
   "execution_count": 153,
   "metadata": {},
   "outputs": [],
   "source": [
    "train_pred=cvModel_nb.transform(trainDf)"
   ]
  },
  {
   "cell_type": "code",
   "execution_count": 154,
   "metadata": {},
   "outputs": [
    {
     "name": "stdout",
     "output_type": "stream",
     "text": [
      "+-----+----------+-----+\n",
      "|label|prediction|count|\n",
      "+-----+----------+-----+\n",
      "|    1|       0.0|   30|\n",
      "|    0|       0.0|20446|\n",
      "|    1|       1.0| 1564|\n",
      "|    0|       1.0|  417|\n",
      "+-----+----------+-----+\n",
      "\n"
     ]
    }
   ],
   "source": [
    "train_pred.groupBy('label','prediction').count().show()"
   ]
  },
  {
   "cell_type": "code",
   "execution_count": 155,
   "metadata": {},
   "outputs": [
    {
     "data": {
      "text/plain": [
       "0.9805959425446922"
      ]
     },
     "execution_count": 155,
     "metadata": {},
     "output_type": "execute_result"
    }
   ],
   "source": [
    "my_eval_nb = BinaryClassificationEvaluator(rawPredictionCol='prediction', labelCol='label', metricName='areaUnderROC')\n",
    "my_eval_nb.evaluate(train_pred)"
   ]
  },
  {
   "cell_type": "code",
   "execution_count": 156,
   "metadata": {},
   "outputs": [
    {
     "data": {
      "text/plain": [
       "0.981079482732061"
      ]
     },
     "execution_count": 156,
     "metadata": {},
     "output_type": "execute_result"
    }
   ],
   "source": [
    "my_mc_nb = MulticlassClassificationEvaluator(predictionCol='prediction', labelCol='label', metricName='f1')\n",
    "my_mc_nb.evaluate(train_pred)"
   ]
  },
  {
   "cell_type": "code",
   "execution_count": 157,
   "metadata": {},
   "outputs": [
    {
     "data": {
      "text/plain": [
       "0.9800952932270561"
      ]
     },
     "execution_count": 157,
     "metadata": {},
     "output_type": "execute_result"
    }
   ],
   "source": [
    "my_mc_nb = MulticlassClassificationEvaluator(predictionCol='prediction', labelCol='label', metricName='accuracy')\n",
    "my_mc_nb.evaluate(train_pred)"
   ]
  },
  {
   "cell_type": "code",
   "execution_count": 158,
   "metadata": {},
   "outputs": [
    {
     "name": "stdout",
     "output_type": "stream",
     "text": [
      "+-----+----------+\n",
      "|label|prediction|\n",
      "+-----+----------+\n",
      "|    1|       0.0|\n",
      "|    1|       1.0|\n",
      "|    0|       0.0|\n",
      "|    0|       1.0|\n",
      "|    0|       0.0|\n",
      "+-----+----------+\n",
      "only showing top 5 rows\n",
      "\n"
     ]
    }
   ],
   "source": [
    "predictions_nb = cvModel_nb.transform(testDf)\n",
    "predictions_nb.select('label', 'prediction').show(5)"
   ]
  },
  {
   "cell_type": "code",
   "execution_count": 159,
   "metadata": {},
   "outputs": [
    {
     "name": "stdout",
     "output_type": "stream",
     "text": [
      "+-----+----------+-----+\n",
      "|label|prediction|count|\n",
      "+-----+----------+-----+\n",
      "|    1|       0.0|   84|\n",
      "|    0|       0.0| 7216|\n",
      "|    1|       1.0|  571|\n",
      "|    0|       1.0| 1634|\n",
      "+-----+----------+-----+\n",
      "\n"
     ]
    }
   ],
   "source": [
    "predictions_nb.groupBy('label','prediction').count().show()"
   ]
  },
  {
   "cell_type": "code",
   "execution_count": 160,
   "metadata": {},
   "outputs": [
    {
     "data": {
      "text/plain": [
       "0.8435614784146289"
      ]
     },
     "execution_count": 160,
     "metadata": {},
     "output_type": "execute_result"
    }
   ],
   "source": [
    "my_eval_nb = BinaryClassificationEvaluator(rawPredictionCol='prediction', labelCol='label', metricName='areaUnderROC')\n",
    "my_eval_nb.evaluate(predictions_nb)"
   ]
  },
  {
   "cell_type": "code",
   "execution_count": 161,
   "metadata": {},
   "outputs": [
    {
     "data": {
      "text/plain": [
       "0.8595580466684641"
      ]
     },
     "execution_count": 161,
     "metadata": {},
     "output_type": "execute_result"
    }
   ],
   "source": [
    "my_mc_nb = MulticlassClassificationEvaluator(predictionCol='prediction', labelCol='label', metricName='f1')\n",
    "my_mc_nb.evaluate(predictions_nb)"
   ]
  },
  {
   "cell_type": "code",
   "execution_count": 162,
   "metadata": {},
   "outputs": [
    {
     "data": {
      "text/plain": [
       "0.8192530247238295"
      ]
     },
     "execution_count": 162,
     "metadata": {},
     "output_type": "execute_result"
    }
   ],
   "source": [
    "my_mc_nb = MulticlassClassificationEvaluator(predictionCol='prediction', labelCol='label', metricName='accuracy')\n",
    "my_mc_nb.evaluate(predictions_nb)"
   ]
  },
  {
   "cell_type": "code",
   "execution_count": null,
   "metadata": {},
   "outputs": [],
   "source": []
  },
  {
   "cell_type": "code",
   "execution_count": null,
   "metadata": {},
   "outputs": [],
   "source": []
  },
  {
   "cell_type": "code",
   "execution_count": null,
   "metadata": {},
   "outputs": [],
   "source": []
  },
  {
   "cell_type": "code",
   "execution_count": null,
   "metadata": {},
   "outputs": [],
   "source": [
    "# SVM implementation"
   ]
  },
  {
   "cell_type": "code",
   "execution_count": 165,
   "metadata": {},
   "outputs": [],
   "source": [
    "svm=LinearSVC(maxIter=5,regParam=0.01)"
   ]
  },
  {
   "cell_type": "code",
   "execution_count": 166,
   "metadata": {},
   "outputs": [],
   "source": [
    "model=svm.fit(trainDf)"
   ]
  },
  {
   "cell_type": "code",
   "execution_count": 167,
   "metadata": {},
   "outputs": [],
   "source": [
    "train_pred=model.transform(trainDf)"
   ]
  },
  {
   "cell_type": "code",
   "execution_count": 168,
   "metadata": {},
   "outputs": [
    {
     "name": "stdout",
     "output_type": "stream",
     "text": [
      "+-----+----------+-----+\n",
      "|label|prediction|count|\n",
      "+-----+----------+-----+\n",
      "|    1|       0.0|  223|\n",
      "|    0|       0.0|20860|\n",
      "|    1|       1.0| 1371|\n",
      "|    0|       1.0|    3|\n",
      "+-----+----------+-----+\n",
      "\n"
     ]
    }
   ],
   "source": [
    "train_pred.groupBy('label','prediction').count().show()"
   ]
  },
  {
   "cell_type": "code",
   "execution_count": 170,
   "metadata": {},
   "outputs": [
    {
     "data": {
      "text/plain": [
       "0.9299782905879794"
      ]
     },
     "execution_count": 170,
     "metadata": {},
     "output_type": "execute_result"
    }
   ],
   "source": [
    "my_eval_svm = BinaryClassificationEvaluator(rawPredictionCol='prediction', labelCol='label', metricName='areaUnderROC')\n",
    "my_eval_svm.evaluate(train_pred)"
   ]
  },
  {
   "cell_type": "code",
   "execution_count": 171,
   "metadata": {},
   "outputs": [
    {
     "data": {
      "text/plain": [
       "0.9895897339796212"
      ]
     },
     "execution_count": 171,
     "metadata": {},
     "output_type": "execute_result"
    }
   ],
   "source": [
    "my_mc_svm = MulticlassClassificationEvaluator(predictionCol='prediction', labelCol='label', metricName='f1')\n",
    "my_mc_svm.evaluate(train_pred)"
   ]
  },
  {
   "cell_type": "code",
   "execution_count": 172,
   "metadata": {},
   "outputs": [
    {
     "data": {
      "text/plain": [
       "0.9899363227501448"
      ]
     },
     "execution_count": 172,
     "metadata": {},
     "output_type": "execute_result"
    }
   ],
   "source": [
    "my_mc_svm = MulticlassClassificationEvaluator(predictionCol='prediction', labelCol='label', metricName='accuracy')\n",
    "my_mc_svm.evaluate(train_pred)"
   ]
  },
  {
   "cell_type": "code",
   "execution_count": 173,
   "metadata": {},
   "outputs": [],
   "source": [
    "test_pred=model.transform(testDf)"
   ]
  },
  {
   "cell_type": "code",
   "execution_count": 174,
   "metadata": {},
   "outputs": [
    {
     "name": "stdout",
     "output_type": "stream",
     "text": [
      "+-----+----------+-----+\n",
      "|label|prediction|count|\n",
      "+-----+----------+-----+\n",
      "|    1|       0.0|  337|\n",
      "|    0|       0.0| 8818|\n",
      "|    1|       1.0|  318|\n",
      "|    0|       1.0|   32|\n",
      "+-----+----------+-----+\n",
      "\n"
     ]
    }
   ],
   "source": [
    "test_pred.groupBy('label','prediction').count().show()"
   ]
  },
  {
   "cell_type": "code",
   "execution_count": 175,
   "metadata": {},
   "outputs": [],
   "source": [
    "evaluator=BinaryClassificationEvaluator()"
   ]
  },
  {
   "cell_type": "code",
   "execution_count": 176,
   "metadata": {},
   "outputs": [],
   "source": [
    "evaluation=evaluator.evaluate(test_pred)"
   ]
  },
  {
   "cell_type": "code",
   "execution_count": 177,
   "metadata": {},
   "outputs": [
    {
     "data": {
      "text/plain": [
       "0.9279893043515222"
      ]
     },
     "execution_count": 177,
     "metadata": {},
     "output_type": "execute_result"
    }
   ],
   "source": [
    "evaluation"
   ]
  },
  {
   "cell_type": "code",
   "execution_count": 178,
   "metadata": {},
   "outputs": [
    {
     "data": {
      "text/plain": [
       "0.7409401819985336"
      ]
     },
     "execution_count": 178,
     "metadata": {},
     "output_type": "execute_result"
    }
   ],
   "source": [
    "my_eval_svm = BinaryClassificationEvaluator(rawPredictionCol='prediction', labelCol='label', metricName='areaUnderROC')\n",
    "my_eval_svm.evaluate(test_pred)"
   ]
  },
  {
   "cell_type": "code",
   "execution_count": 179,
   "metadata": {},
   "outputs": [
    {
     "data": {
      "text/plain": [
       "0.9556162908495471"
      ]
     },
     "execution_count": 179,
     "metadata": {},
     "output_type": "execute_result"
    }
   ],
   "source": [
    "my_mc_svm = MulticlassClassificationEvaluator(predictionCol='prediction', labelCol='label', metricName='f1')\n",
    "my_mc_svm.evaluate(test_pred)"
   ]
  },
  {
   "cell_type": "code",
   "execution_count": 180,
   "metadata": {},
   "outputs": [
    {
     "data": {
      "text/plain": [
       "0.9611783271962125"
      ]
     },
     "execution_count": 180,
     "metadata": {},
     "output_type": "execute_result"
    }
   ],
   "source": [
    "my_mc_svm = MulticlassClassificationEvaluator(predictionCol='prediction', labelCol='label', metricName='accuracy')\n",
    "my_mc_svm.evaluate(test_pred)"
   ]
  },
  {
   "cell_type": "code",
   "execution_count": null,
   "metadata": {},
   "outputs": [],
   "source": []
  },
  {
   "cell_type": "code",
   "execution_count": null,
   "metadata": {},
   "outputs": [],
   "source": []
  },
  {
   "cell_type": "code",
   "execution_count": null,
   "metadata": {},
   "outputs": [],
   "source": []
  },
  {
   "cell_type": "code",
   "execution_count": 181,
   "metadata": {},
   "outputs": [],
   "source": [
    "# random forest implemetation"
   ]
  },
  {
   "cell_type": "code",
   "execution_count": 182,
   "metadata": {},
   "outputs": [],
   "source": [
    "rf=RandomForestClassifier()"
   ]
  },
  {
   "cell_type": "code",
   "execution_count": 183,
   "metadata": {},
   "outputs": [],
   "source": [
    "rf_model=rf.fit(trainDf)"
   ]
  },
  {
   "cell_type": "code",
   "execution_count": 184,
   "metadata": {},
   "outputs": [],
   "source": [
    "train_pred=rf_model.transform(trainDf)"
   ]
  },
  {
   "cell_type": "code",
   "execution_count": 185,
   "metadata": {},
   "outputs": [
    {
     "name": "stdout",
     "output_type": "stream",
     "text": [
      "+-----+----------+-----+\n",
      "|label|prediction|count|\n",
      "+-----+----------+-----+\n",
      "|    1|       0.0| 1594|\n",
      "|    0|       0.0|20863|\n",
      "+-----+----------+-----+\n",
      "\n"
     ]
    }
   ],
   "source": [
    "train_pred.groupBy('label','prediction').count().show()"
   ]
  },
  {
   "cell_type": "code",
   "execution_count": 186,
   "metadata": {},
   "outputs": [
    {
     "data": {
      "text/plain": [
       "0.5"
      ]
     },
     "execution_count": 186,
     "metadata": {},
     "output_type": "execute_result"
    }
   ],
   "source": [
    "my_eval_rf = BinaryClassificationEvaluator(rawPredictionCol='prediction', labelCol='label', metricName='areaUnderROC')\n",
    "my_eval_rf.evaluate(train_pred)"
   ]
  },
  {
   "cell_type": "code",
   "execution_count": 187,
   "metadata": {},
   "outputs": [
    {
     "data": {
      "text/plain": [
       "0.8948357466249957"
      ]
     },
     "execution_count": 187,
     "metadata": {},
     "output_type": "execute_result"
    }
   ],
   "source": [
    "my_mc_rf = MulticlassClassificationEvaluator(predictionCol='prediction', labelCol='label', metricName='f1')\n",
    "my_mc_rf.evaluate(train_pred)"
   ]
  },
  {
   "cell_type": "code",
   "execution_count": 188,
   "metadata": {},
   "outputs": [
    {
     "data": {
      "text/plain": [
       "0.929019904706773"
      ]
     },
     "execution_count": 188,
     "metadata": {},
     "output_type": "execute_result"
    }
   ],
   "source": [
    "my_mc_rf = MulticlassClassificationEvaluator(predictionCol='prediction', labelCol='label', metricName='accuracy')\n",
    "my_mc_rf.evaluate(train_pred)"
   ]
  },
  {
   "cell_type": "code",
   "execution_count": 189,
   "metadata": {},
   "outputs": [],
   "source": [
    "test_pred=rf_model.transform(testDf)"
   ]
  },
  {
   "cell_type": "code",
   "execution_count": 190,
   "metadata": {},
   "outputs": [
    {
     "name": "stdout",
     "output_type": "stream",
     "text": [
      "+-----+----------+-----+\n",
      "|label|prediction|count|\n",
      "+-----+----------+-----+\n",
      "|    1|       0.0|  655|\n",
      "|    0|       0.0| 8850|\n",
      "+-----+----------+-----+\n",
      "\n"
     ]
    }
   ],
   "source": [
    "test_pred.groupBy('label','prediction').count().show()"
   ]
  },
  {
   "cell_type": "code",
   "execution_count": 191,
   "metadata": {},
   "outputs": [
    {
     "data": {
      "text/plain": [
       "0.5"
      ]
     },
     "execution_count": 191,
     "metadata": {},
     "output_type": "execute_result"
    }
   ],
   "source": [
    "my_eval_rf = BinaryClassificationEvaluator(rawPredictionCol='prediction', labelCol='label', metricName='areaUnderROC')\n",
    "my_eval_rf.evaluate(test_pred)"
   ]
  },
  {
   "cell_type": "code",
   "execution_count": 192,
   "metadata": {},
   "outputs": [
    {
     "data": {
      "text/plain": [
       "0.8978629005852345"
      ]
     },
     "execution_count": 192,
     "metadata": {},
     "output_type": "execute_result"
    }
   ],
   "source": [
    "my_mc_rf = MulticlassClassificationEvaluator(predictionCol='prediction', labelCol='label', metricName='f1')\n",
    "my_mc_rf.evaluate(test_pred)"
   ]
  },
  {
   "cell_type": "code",
   "execution_count": 193,
   "metadata": {},
   "outputs": [
    {
     "data": {
      "text/plain": [
       "0.9310889005786428"
      ]
     },
     "execution_count": 193,
     "metadata": {},
     "output_type": "execute_result"
    }
   ],
   "source": [
    "my_mc_rf = MulticlassClassificationEvaluator(predictionCol='prediction', labelCol='label', metricName='accuracy')\n",
    "my_mc_rf.evaluate(test_pred)"
   ]
  },
  {
   "cell_type": "code",
   "execution_count": null,
   "metadata": {},
   "outputs": [],
   "source": []
  },
  {
   "cell_type": "code",
   "execution_count": null,
   "metadata": {},
   "outputs": [],
   "source": []
  },
  {
   "cell_type": "code",
   "execution_count": null,
   "metadata": {},
   "outputs": [],
   "source": []
  },
  {
   "cell_type": "code",
   "execution_count": null,
   "metadata": {},
   "outputs": [],
   "source": [
    "# Gradient boosted tree classifier\n",
    "\n",
    "\n",
    "# This algo is incomplete"
   ]
  },
  {
   "cell_type": "code",
   "execution_count": 194,
   "metadata": {},
   "outputs": [],
   "source": [
    "gbt = GBTClassifier(maxIter=10)"
   ]
  },
  {
   "cell_type": "code",
   "execution_count": null,
   "metadata": {},
   "outputs": [],
   "source": [
    "gbtModel = gbt.fit(trainDf)"
   ]
  },
  {
   "cell_type": "code",
   "execution_count": null,
   "metadata": {},
   "outputs": [],
   "source": [
    "train_pred=gbtModel.transform(trainDf)"
   ]
  },
  {
   "cell_type": "code",
   "execution_count": null,
   "metadata": {},
   "outputs": [],
   "source": [
    "train_pred.groupBy('label','prediction').count().show()"
   ]
  },
  {
   "cell_type": "code",
   "execution_count": null,
   "metadata": {},
   "outputs": [],
   "source": [
    "my_eval_gbt = BinaryClassificationEvaluator(rawPredictionCol='prediction', labelCol='label', metricName='areaUnderROC')\n",
    "my_eval_gbt.evaluate(train_pred)"
   ]
  },
  {
   "cell_type": "code",
   "execution_count": null,
   "metadata": {},
   "outputs": [],
   "source": [
    "my_mc_gbt = MulticlassClassificationEvaluator(predictionCol='prediction', labelCol='label', metricName='f1')\n",
    "my_mc_gbt.evaluate(train_pred)"
   ]
  },
  {
   "cell_type": "code",
   "execution_count": null,
   "metadata": {},
   "outputs": [],
   "source": [
    "my_mc_gbt = MulticlassClassificationEvaluator(predictionCol='prediction', labelCol='label', metricName='f1')\n",
    "my_mc_gbt.evaluate(train_pred)"
   ]
  },
  {
   "cell_type": "code",
   "execution_count": null,
   "metadata": {},
   "outputs": [],
   "source": []
  },
  {
   "cell_type": "code",
   "execution_count": null,
   "metadata": {},
   "outputs": [],
   "source": [
    "predictions = gbtModel.transform(test)"
   ]
  }
 ],
 "metadata": {
  "kernelspec": {
   "display_name": "Python 3",
   "language": "python",
   "name": "python3"
  },
  "language_info": {
   "codemirror_mode": {
    "name": "ipython",
    "version": 3
   },
   "file_extension": ".py",
   "mimetype": "text/x-python",
   "name": "python",
   "nbconvert_exporter": "python",
   "pygments_lexer": "ipython3",
   "version": "3.6.2"
  }
 },
 "nbformat": 4,
 "nbformat_minor": 4
}
